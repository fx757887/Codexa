{
 "cells": [
  {
   "cell_type": "code",
   "execution_count": 28,
   "metadata": {},
   "outputs": [],
   "source": [
    "#データ処理\n",
    "import numpy as np\n",
    "import pandas as pd\n",
    "import sklearn.datasets\n",
    "\n",
    "#データ可視化\n",
    "import matplotlib.pyplot as plt\n",
    "import matplotlib\n",
    "%matplotlib inline"
   ]
  },
  {
   "cell_type": "code",
   "execution_count": 29,
   "metadata": {},
   "outputs": [],
   "source": [
    "#機械学習ライブラリ　scikit-learn\n",
    "from sklearn.model_selection import train_test_split\n",
    "from sklearn.model_selection import cross_val_score\n",
    "from sklearn.metrics import confusion_matrix, accuracy_score\n",
    "#from sklearn.datasets import fetch_mldata\n",
    "from sklearn.datasets import fetch_openml"
   ]
  },
  {
   "cell_type": "code",
   "execution_count": 57,
   "metadata": {},
   "outputs": [],
   "source": [
    "#機械学習ライブラリ　keras\n",
    "import keras as ks\n",
    "from keras.models import Sequential\n",
    "from keras.layers import Dense, Dropout, Flatten, Conv2D, MaxPooling2D\n",
    "from keras.utils import np_utils"
   ]
  },
  {
   "cell_type": "code",
   "execution_count": 59,
   "metadata": {},
   "outputs": [],
   "source": [
    "from sklearn.datasets import fetch_openml\n",
    "mnist = fetch_openml('mnist_784', version=1,)"
   ]
  },
  {
   "cell_type": "code",
   "execution_count": 60,
   "metadata": {},
   "outputs": [],
   "source": [
    "#MNISTデータの読み込み\n",
    "#mnist=fetch_mldata(\"'MNIST original'\")"
   ]
  },
  {
   "cell_type": "code",
   "execution_count": 61,
   "metadata": {},
   "outputs": [],
   "source": [
    "y=mnist[\"target\"]"
   ]
  },
  {
   "cell_type": "code",
   "execution_count": 35,
   "metadata": {},
   "outputs": [],
   "source": [
    "x=mnist[\"data\"]"
   ]
  },
  {
   "cell_type": "code",
   "execution_count": 36,
   "metadata": {},
   "outputs": [],
   "source": [
    "#訓練、テストセットに分割\n",
    "x_train, x_test, y_train, y_test=train_test_split(x, y, test_size=0.2, random_state=42)"
   ]
  },
  {
   "cell_type": "code",
   "execution_count": 37,
   "metadata": {},
   "outputs": [],
   "source": [
    "x_train=x_train[:10000]\n",
    "y_train=y_train[:10000]"
   ]
  },
  {
   "cell_type": "code",
   "execution_count": 38,
   "metadata": {},
   "outputs": [],
   "source": [
    "x_test=x_test[:10000]\n",
    "y_test=y_test[:10000]"
   ]
  },
  {
   "cell_type": "code",
   "execution_count": 39,
   "metadata": {},
   "outputs": [],
   "source": [
    "x_train=x_train.astype(\"float32\")/255\n",
    "x_test=x_test.astype(\"float32\")/255\n"
   ]
  },
  {
   "cell_type": "code",
   "execution_count": 40,
   "metadata": {},
   "outputs": [
    {
     "name": "stdout",
     "output_type": "stream",
     "text": [
      "(10000, 28, 28, 1)\n",
      "(10000, 28, 28, 1)\n"
     ]
    }
   ],
   "source": [
    "x_train=x_train.reshape(x_train.shape[0],28,28,1)\n",
    "x_test=x_test.reshape(x_test.shape[0],28,28,1)\n",
    "print(x_train.shape)\n",
    "print(x_test.shape)"
   ]
  },
  {
   "cell_type": "code",
   "execution_count": 41,
   "metadata": {},
   "outputs": [
    {
     "name": "stdout",
     "output_type": "stream",
     "text": [
      "['5' '4' '8' '0' '2']\n",
      "['8' '4' '8' '7' '7']\n"
     ]
    }
   ],
   "source": [
    "#ターゲットデータの確認\n",
    "print(y_train[0:5])\n",
    "print(y_test[0:5])"
   ]
  },
  {
   "cell_type": "code",
   "execution_count": 42,
   "metadata": {},
   "outputs": [
    {
     "name": "stdout",
     "output_type": "stream",
     "text": [
      "[[0. 0. 0. 0. 0. 1. 0. 0. 0. 0.]\n",
      " [0. 0. 0. 0. 1. 0. 0. 0. 0. 0.]\n",
      " [0. 0. 0. 0. 0. 0. 0. 0. 1. 0.]\n",
      " [1. 0. 0. 0. 0. 0. 0. 0. 0. 0.]\n",
      " [0. 0. 1. 0. 0. 0. 0. 0. 0. 0.]]\n",
      "[[0. 0. 0. 0. 0. 0. 0. 0. 1. 0.]\n",
      " [0. 0. 0. 0. 1. 0. 0. 0. 0. 0.]\n",
      " [0. 0. 0. 0. 0. 0. 0. 0. 1. 0.]\n",
      " [0. 0. 0. 0. 0. 0. 0. 1. 0. 0.]\n",
      " [0. 0. 0. 0. 0. 0. 0. 1. 0. 0.]]\n"
     ]
    }
   ],
   "source": [
    "#ターゲットデータをクラスベクトルへ変換\n",
    "y_train=np_utils.to_categorical(y_train,10)\n",
    "y_test=np_utils.to_categorical(y_test,10)\n",
    "\n",
    "print(y_train[0:5])\n",
    "print(y_test[0:5])"
   ]
  },
  {
   "cell_type": "code",
   "execution_count": 43,
   "metadata": {},
   "outputs": [],
   "source": [
    "#Sequentialモデル\n",
    "model=Sequential()"
   ]
  },
  {
   "cell_type": "code",
   "execution_count": 44,
   "metadata": {},
   "outputs": [
    {
     "name": "stdout",
     "output_type": "stream",
     "text": [
      "WARNING:tensorflow:From C:\\Users\\fx757887\\Anaconda3\\lib\\site-packages\\tensorflow\\python\\framework\\op_def_library.py:263: colocate_with (from tensorflow.python.framework.ops) is deprecated and will be removed in a future version.\n",
      "Instructions for updating:\n",
      "Colocations handled automatically by placer.\n"
     ]
    }
   ],
   "source": [
    "#入力層と畳み込み層\n",
    "model.add(Conv2D(8,kernel_size=(3,3),activation=\"relu\",input_shape=(28,28,1)))\n",
    "#add modelにadd()を使い、畳み込みNNを追加していく\n",
    "#2Dの畳み込み層　Conv2D\n",
    "#input_shape 入力層(28,28,1)\n",
    "#kernel_size 畳み込み層のフィルタサイズ　(3,3)"
   ]
  },
  {
   "cell_type": "code",
   "execution_count": 45,
   "metadata": {},
   "outputs": [],
   "source": [
    "#プール層\n",
    "model.add(MaxPooling2D(pool_size=(2,2)))\n",
    "#pool_size (2,2)"
   ]
  },
  {
   "cell_type": "code",
   "execution_count": 46,
   "metadata": {},
   "outputs": [
    {
     "name": "stdout",
     "output_type": "stream",
     "text": [
      "WARNING:tensorflow:From C:\\Users\\fx757887\\Anaconda3\\lib\\site-packages\\keras\\backend\\tensorflow_backend.py:3445: calling dropout (from tensorflow.python.ops.nn_ops) with keep_prob is deprecated and will be removed in a future version.\n",
      "Instructions for updating:\n",
      "Please use `rate` instead of `keep_prob`. Rate should be set to `rate = 1 - keep_prob`.\n"
     ]
    }
   ],
   "source": [
    "#ドロップアウト\n",
    "model.add(Dropout(0.25))"
   ]
  },
  {
   "cell_type": "code",
   "execution_count": 47,
   "metadata": {},
   "outputs": [],
   "source": [
    "#全結合層\n",
    "model.add(Flatten())\n",
    "model.add(Dense(128,activation=\"relu\"))\n",
    "#全結合層を2層追加、Flatten()で1つ前の層から出力されたデータを平らなベクトルにする\n",
    "#Dense()で128ユニットの隠れ層を追加"
   ]
  },
  {
   "cell_type": "code",
   "execution_count": 48,
   "metadata": {},
   "outputs": [],
   "source": [
    "#出力層\n",
    "model.add(Dense(10, activation=\"softmax\"))\n",
    "#出力層は分類するクラスと同数　MNISTは 0～9 の10クラス"
   ]
  },
  {
   "cell_type": "code",
   "execution_count": 49,
   "metadata": {},
   "outputs": [
    {
     "name": "stdout",
     "output_type": "stream",
     "text": [
      "_________________________________________________________________\n",
      "Layer (type)                 Output Shape              Param #   \n",
      "=================================================================\n",
      "conv2d_1 (Conv2D)            (None, 26, 26, 8)         80        \n",
      "_________________________________________________________________\n",
      "max_pooling2d_1 (MaxPooling2 (None, 13, 13, 8)         0         \n",
      "_________________________________________________________________\n",
      "dropout_1 (Dropout)          (None, 13, 13, 8)         0         \n",
      "_________________________________________________________________\n",
      "flatten_1 (Flatten)          (None, 1352)              0         \n",
      "_________________________________________________________________\n",
      "dense_1 (Dense)              (None, 128)               173184    \n",
      "_________________________________________________________________\n",
      "dense_2 (Dense)              (None, 10)                1290      \n",
      "=================================================================\n",
      "Total params: 174,554\n",
      "Trainable params: 174,554\n",
      "Non-trainable params: 0\n",
      "_________________________________________________________________\n"
     ]
    }
   ],
   "source": [
    "model.summary()"
   ]
  },
  {
   "cell_type": "code",
   "execution_count": 50,
   "metadata": {},
   "outputs": [],
   "source": [
    "#モデル、コンパイル\n",
    "model.compile(loss=\"categorical_crossentropy\",optimizer=\"sgd\",metrics=[\"accuracy\"])\n",
    "#compile()メソッド\n",
    "#損失関数　loss\n",
    "#最適化アルゴリズム　optimizer\n",
    "#評価関数　metrics"
   ]
  },
  {
   "cell_type": "code",
   "execution_count": 51,
   "metadata": {},
   "outputs": [
    {
     "name": "stdout",
     "output_type": "stream",
     "text": [
      "WARNING:tensorflow:From C:\\Users\\fx757887\\Anaconda3\\lib\\site-packages\\tensorflow\\python\\ops\\math_ops.py:3066: to_int32 (from tensorflow.python.ops.math_ops) is deprecated and will be removed in a future version.\n",
      "Instructions for updating:\n",
      "Use tf.cast instead.\n",
      "Epoch 1/50\n",
      "10000/10000 [==============================] - 5s 453us/step - loss: 1.5400 - acc: 0.5258\n",
      "Epoch 2/50\n",
      "10000/10000 [==============================] - 1s 60us/step - loss: 0.5610 - acc: 0.8324\n",
      "Epoch 3/50\n",
      "10000/10000 [==============================] - 1s 60us/step - loss: 0.4480 - acc: 0.8607\n",
      "Epoch 4/50\n",
      "10000/10000 [==============================] - 1s 60us/step - loss: 0.4049 - acc: 0.8776\n",
      "Epoch 5/50\n",
      "10000/10000 [==============================] - 1s 61us/step - loss: 0.3755 - acc: 0.8815\n",
      "Epoch 6/50\n",
      "10000/10000 [==============================] - 1s 60us/step - loss: 0.3427 - acc: 0.8943\n",
      "Epoch 7/50\n",
      "10000/10000 [==============================] - 1s 59us/step - loss: 0.3199 - acc: 0.9027\n",
      "Epoch 8/50\n",
      "10000/10000 [==============================] - 1s 59us/step - loss: 0.3004 - acc: 0.9087\n",
      "Epoch 9/50\n",
      "10000/10000 [==============================] - 1s 59us/step - loss: 0.2858 - acc: 0.9133\n",
      "Epoch 10/50\n",
      "10000/10000 [==============================] - 1s 59us/step - loss: 0.2640 - acc: 0.9203: 0s - loss: 0.2770 - ac\n",
      "Epoch 11/50\n",
      "10000/10000 [==============================] - 1s 59us/step - loss: 0.2467 - acc: 0.9240\n",
      "Epoch 12/50\n",
      "10000/10000 [==============================] - 1s 59us/step - loss: 0.2346 - acc: 0.9278\n",
      "Epoch 13/50\n",
      "10000/10000 [==============================] - 1s 59us/step - loss: 0.2241 - acc: 0.9307\n",
      "Epoch 14/50\n",
      "10000/10000 [==============================] - 1s 59us/step - loss: 0.2115 - acc: 0.9345\n",
      "Epoch 15/50\n",
      "10000/10000 [==============================] - 1s 59us/step - loss: 0.2069 - acc: 0.9366\n",
      "Epoch 16/50\n",
      "10000/10000 [==============================] - 1s 59us/step - loss: 0.1949 - acc: 0.9403\n",
      "Epoch 17/50\n",
      "10000/10000 [==============================] - 1s 60us/step - loss: 0.1908 - acc: 0.9404\n",
      "Epoch 18/50\n",
      "10000/10000 [==============================] - 1s 59us/step - loss: 0.1820 - acc: 0.9419\n",
      "Epoch 19/50\n",
      "10000/10000 [==============================] - 1s 60us/step - loss: 0.1679 - acc: 0.9501\n",
      "Epoch 20/50\n",
      "10000/10000 [==============================] - 1s 60us/step - loss: 0.1623 - acc: 0.9501\n",
      "Epoch 21/50\n",
      "10000/10000 [==============================] - 1s 59us/step - loss: 0.1623 - acc: 0.9515\n",
      "Epoch 22/50\n",
      "10000/10000 [==============================] - 1s 59us/step - loss: 0.1554 - acc: 0.9507\n",
      "Epoch 23/50\n",
      "10000/10000 [==============================] - 1s 59us/step - loss: 0.1436 - acc: 0.9554\n",
      "Epoch 24/50\n",
      "10000/10000 [==============================] - 1s 59us/step - loss: 0.1367 - acc: 0.9586\n",
      "Epoch 25/50\n",
      "10000/10000 [==============================] - 1s 59us/step - loss: 0.1368 - acc: 0.9559\n",
      "Epoch 26/50\n",
      "10000/10000 [==============================] - 1s 60us/step - loss: 0.1348 - acc: 0.9568\n",
      "Epoch 27/50\n",
      "10000/10000 [==============================] - 1s 61us/step - loss: 0.1306 - acc: 0.9601\n",
      "Epoch 28/50\n",
      "10000/10000 [==============================] - 1s 60us/step - loss: 0.1224 - acc: 0.9606\n",
      "Epoch 29/50\n",
      "10000/10000 [==============================] - ETA: 0s - loss: 0.1177 - acc: 0.962 - 1s 59us/step - loss: 0.1186 - acc: 0.9619\n",
      "Epoch 30/50\n",
      "10000/10000 [==============================] - 1s 59us/step - loss: 0.1173 - acc: 0.9632\n",
      "Epoch 31/50\n",
      "10000/10000 [==============================] - 1s 58us/step - loss: 0.1159 - acc: 0.9643\n",
      "Epoch 32/50\n",
      "10000/10000 [==============================] - 1s 58us/step - loss: 0.1089 - acc: 0.9650\n",
      "Epoch 33/50\n",
      "10000/10000 [==============================] - 1s 58us/step - loss: 0.1080 - acc: 0.9641\n",
      "Epoch 34/50\n",
      "10000/10000 [==============================] - 1s 59us/step - loss: 0.1046 - acc: 0.9664\n",
      "Epoch 35/50\n",
      "10000/10000 [==============================] - 1s 59us/step - loss: 0.1021 - acc: 0.9694\n",
      "Epoch 36/50\n",
      "10000/10000 [==============================] - 1s 58us/step - loss: 0.0950 - acc: 0.9702\n",
      "Epoch 37/50\n",
      "10000/10000 [==============================] - 1s 59us/step - loss: 0.0940 - acc: 0.9700\n",
      "Epoch 38/50\n",
      "10000/10000 [==============================] - 1s 58us/step - loss: 0.0936 - acc: 0.9690\n",
      "Epoch 39/50\n",
      "10000/10000 [==============================] - 1s 59us/step - loss: 0.0899 - acc: 0.9706\n",
      "Epoch 40/50\n",
      "10000/10000 [==============================] - 1s 58us/step - loss: 0.0867 - acc: 0.9719\n",
      "Epoch 41/50\n",
      "10000/10000 [==============================] - 1s 59us/step - loss: 0.0857 - acc: 0.9727\n",
      "Epoch 42/50\n",
      "10000/10000 [==============================] - 1s 59us/step - loss: 0.0846 - acc: 0.9729\n",
      "Epoch 43/50\n",
      "10000/10000 [==============================] - 1s 59us/step - loss: 0.0801 - acc: 0.9740\n",
      "Epoch 44/50\n",
      "10000/10000 [==============================] - 1s 59us/step - loss: 0.0804 - acc: 0.9740\n",
      "Epoch 45/50\n",
      "10000/10000 [==============================] - 1s 59us/step - loss: 0.0781 - acc: 0.9757\n",
      "Epoch 46/50\n",
      "10000/10000 [==============================] - 1s 59us/step - loss: 0.0797 - acc: 0.9750\n",
      "Epoch 47/50\n",
      "10000/10000 [==============================] - 1s 59us/step - loss: 0.0764 - acc: 0.9739\n",
      "Epoch 48/50\n",
      "10000/10000 [==============================] - 1s 58us/step - loss: 0.0733 - acc: 0.9763\n",
      "Epoch 49/50\n",
      "10000/10000 [==============================] - 1s 58us/step - loss: 0.0737 - acc: 0.9755\n",
      "Epoch 50/50\n",
      "10000/10000 [==============================] - 1s 58us/step - loss: 0.0710 - acc: 0.9777\n"
     ]
    },
    {
     "data": {
      "text/plain": [
       "<keras.callbacks.History at 0x2a92eab4c88>"
      ]
     },
     "execution_count": 51,
     "metadata": {},
     "output_type": "execute_result"
    }
   ],
   "source": [
    "#モデル訓練\n",
    "model.fit(x_train, y_train, epochs=50)"
   ]
  },
  {
   "cell_type": "code",
   "execution_count": 52,
   "metadata": {},
   "outputs": [],
   "source": [
    "#テストデータで推測結果を出力\n",
    "cnn_pred=model.predict(x_test)"
   ]
  },
  {
   "cell_type": "code",
   "execution_count": 53,
   "metadata": {},
   "outputs": [
    {
     "name": "stdout",
     "output_type": "stream",
     "text": [
      "[4.8976747e-09 4.3042708e-10 6.1682746e-05 7.1368623e-03 9.5799764e-11\n",
      " 5.2508035e-06 2.7860994e-10 1.5055660e-08 9.9279624e-01 2.3949589e-08]\n"
     ]
    }
   ],
   "source": [
    "print(cnn_pred[0])"
   ]
  },
  {
   "cell_type": "code",
   "execution_count": 54,
   "metadata": {},
   "outputs": [],
   "source": [
    "#推測結果をクラスラベルへ変換\n",
    "y_pred_CNN=np.argmax(cnn_pred,axis=1)\n",
    "y_test_CNN=np.argmax(y_test,axis=1)"
   ]
  },
  {
   "cell_type": "code",
   "execution_count": 55,
   "metadata": {},
   "outputs": [
    {
     "name": "stdout",
     "output_type": "stream",
     "text": [
      "[[ 968    0    2    0    0    0    3    1    5    4]\n",
      " [   0 1122   10    3    0    3    1    4    7    2]\n",
      " [   1    5  934    8    2    1    2    3    8    3]\n",
      " [   1    1    6 1004    0    5    1    3    4    9]\n",
      " [   4    0    3    0  848    2    7    4    1   37]\n",
      " [   2    0    0   17    0  910    2    0    5    1]\n",
      " [   5    1    1    0    1   14  937    0    2    0]\n",
      " [   0    0    9    1    3    0    0 1021    0   21]\n",
      " [   3    1    4   26    1    7    1    3  905   18]\n",
      " [   4    3    0    8    2    4    0    5    2 1008]]\n"
     ]
    }
   ],
   "source": [
    "print(confusion_matrix(y_test_CNN,y_pred_CNN))"
   ]
  },
  {
   "cell_type": "code",
   "execution_count": 56,
   "metadata": {},
   "outputs": [
    {
     "name": "stdout",
     "output_type": "stream",
     "text": [
      "0.9657\n"
     ]
    }
   ],
   "source": [
    "print(accuracy_score(y_test_CNN,y_pred_CNN))"
   ]
  },
  {
   "cell_type": "code",
   "execution_count": null,
   "metadata": {},
   "outputs": [],
   "source": []
  }
 ],
 "metadata": {
  "kernelspec": {
   "display_name": "Python 3",
   "language": "python",
   "name": "python3"
  },
  "language_info": {
   "codemirror_mode": {
    "name": "ipython",
    "version": 3
   },
   "file_extension": ".py",
   "mimetype": "text/x-python",
   "name": "python",
   "nbconvert_exporter": "python",
   "pygments_lexer": "ipython3",
   "version": "3.7.3"
  }
 },
 "nbformat": 4,
 "nbformat_minor": 2
}
